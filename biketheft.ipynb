{
 "cells": [
  {
   "attachments": {},
   "cell_type": "markdown",
   "id": "6dfd5de1-896e-4c75-b974-b8988319b3f5",
   "metadata": {},
   "source": [
    "# STAT 201 Group Project: Assessing the Effectiveness of VPD Bike Theft Prevention Programs"
   ]
  },
  {
   "attachments": {},
   "cell_type": "markdown",
   "id": "c86f0df4-4b4e-44ee-a3a9-1ce2dc7d43af",
   "metadata": {
    "tags": []
   },
   "source": [
    "Angela Felicia, Christin Wang, Linda Chu, Yifan Hao"
   ]
  },
  {
   "attachments": {},
   "cell_type": "markdown",
   "id": "b5daabc3-fbe9-4677-96cc-a512d85b77f1",
   "metadata": {},
   "source": [
    "### Background Information\n",
    "\n",
    "Bike theft is a major issue in Vancouver. According to the Vancouver Police Department (VPD), over 2,000 bikes are reported stolen in Vancouver every year (Vancouver Police Department, n.d.). To combat this issue, the VPD partnered with Project 529 in 2015 to introduce a theft report and recovery system for bikes. Registered bikes display a Project 529 decal (i.e. “shield”) to deter thieves and make tracking stolen bikes easier.\n",
    "\n",
    "According to both the VPD and McIntyre (2023), bike theft in Vancouver dropped following the introduction of Project 529, and other studies have shown that the inexpensive decal and Project 529 signage alone was effective in deterring theft (Nettle, Nott, & Bateson, 2012).\n",
    "\n",
    "### Our Question\n",
    "We want to investigate whether the VPD's claims are supported by statistical inference. To accomplish this, we will compare the proportion of bike theft out of all reported crime in Vancouver in 2012 (a year before Project 529 was created) to the proportion of bike theft in 2022 (the most recent year that has concluded). We will also identify a confidence interval to state how confident we are in our findings. \n",
    "\n",
    "For our project, we will focus on Downtown Vancouver as bike theft happens predominantly around transport hubs or places of employment which are common in the area, and the crime rate is relatively higher compared to other neighbourhoods (Malleson, Steenbeek, & Andresen, 2019). \n",
    "As such, impact from initiatives such as Project 529 would be more evident, making it a good area \n",
    "to evaluate the program’s effectiveness. \n",
    "\n",
    "The dataset we will use is the VPD Crime dataset from the PRIME BC Police Records Management System (RMS) which contains information about the date/time, location, and type of crime reported in neighbourhoods in Vancouver from 2003 to 2023.\n"
   ]
  },
  {
   "attachments": {},
   "cell_type": "markdown",
   "id": "5bdc6c83-6987-4816-948d-832f20df2655",
   "metadata": {},
   "source": [
    "## Preliminary Results: Loading the dataset \n"
   ]
  },
  {
   "cell_type": "code",
   "execution_count": 9,
   "id": "73eee2c0-5bad-4d59-91a4-d3ff401f713e",
   "metadata": {
    "tags": [],
    "vscode": {
     "languageId": "r"
    }
   },
   "outputs": [],
   "source": [
    "library(dplyr)\n",
    "library(ggplot2)\n",
    "library(readr)\n",
    "library(tidyr)"
   ]
  },
  {
   "cell_type": "code",
   "execution_count": 10,
   "id": "92a2dc74-bcc9-4f77-97d4-0f68549236fc",
   "metadata": {
    "tags": [],
    "vscode": {
     "languageId": "r"
    }
   },
   "outputs": [
    {
     "name": "stderr",
     "output_type": "stream",
     "text": [
      "`curl` package not installed, falling back to using `url()`\n",
      "\u001b[1mRows: \u001b[22m\u001b[34m8821\u001b[39m \u001b[1mColumns: \u001b[22m\u001b[34m10\u001b[39m\n",
      "\u001b[36m--\u001b[39m \u001b[1mColumn specification\u001b[22m \u001b[36m--------------------------------------------------------\u001b[39m\n",
      "\u001b[1mDelimiter:\u001b[22m \",\"\n",
      "\u001b[31mchr\u001b[39m (3): TYPE, HUNDRED_BLOCK, NEIGHBOURHOOD\n",
      "\u001b[32mdbl\u001b[39m (7): YEAR, MONTH, DAY, HOUR, MINUTE, X, Y\n",
      "\n",
      "\u001b[36mi\u001b[39m Use `spec()` to retrieve the full column specification for this data.\n",
      "\u001b[36mi\u001b[39m Specify the column types or set `show_col_types = FALSE` to quiet this message.\n",
      "`curl` package not installed, falling back to using `url()`\n",
      "\u001b[1mRows: \u001b[22m\u001b[34m10614\u001b[39m \u001b[1mColumns: \u001b[22m\u001b[34m10\u001b[39m\n",
      "\u001b[36m--\u001b[39m \u001b[1mColumn specification\u001b[22m \u001b[36m--------------------------------------------------------\u001b[39m\n",
      "\u001b[1mDelimiter:\u001b[22m \",\"\n",
      "\u001b[31mchr\u001b[39m (3): TYPE, HUNDRED_BLOCK, NEIGHBOURHOOD\n",
      "\u001b[32mdbl\u001b[39m (7): YEAR, MONTH, DAY, HOUR, MINUTE, X, Y\n",
      "\n",
      "\u001b[36mi\u001b[39m Use `spec()` to retrieve the full column specification for this data.\n",
      "\u001b[36mi\u001b[39m Specify the column types or set `show_col_types = FALSE` to quiet this message.\n"
     ]
    },
    {
     "data": {
      "text/html": [
       "<table class=\"dataframe\">\n",
       "<caption>A tibble: 6 x 10</caption>\n",
       "<thead>\n",
       "\t<tr><th scope=col>TYPE</th><th scope=col>YEAR</th><th scope=col>MONTH</th><th scope=col>DAY</th><th scope=col>HOUR</th><th scope=col>MINUTE</th><th scope=col>HUNDRED_BLOCK</th><th scope=col>NEIGHBOURHOOD</th><th scope=col>X</th><th scope=col>Y</th></tr>\n",
       "\t<tr><th scope=col>&lt;chr&gt;</th><th scope=col>&lt;dbl&gt;</th><th scope=col>&lt;dbl&gt;</th><th scope=col>&lt;dbl&gt;</th><th scope=col>&lt;dbl&gt;</th><th scope=col>&lt;dbl&gt;</th><th scope=col>&lt;chr&gt;</th><th scope=col>&lt;chr&gt;</th><th scope=col>&lt;dbl&gt;</th><th scope=col>&lt;dbl&gt;</th></tr>\n",
       "</thead>\n",
       "<tbody>\n",
       "\t<tr><td>Break and Enter Commercial</td><td>2012</td><td>11</td><td>26</td><td> 9</td><td>38</td><td>10XX BEACH AVE  </td><td>Central Business District</td><td>490268.4</td><td>5458143</td></tr>\n",
       "\t<tr><td>Break and Enter Commercial</td><td>2012</td><td>10</td><td>11</td><td>13</td><td> 0</td><td>10XX CAMBIE ST  </td><td>Central Business District</td><td>491327.6</td><td>5458026</td></tr>\n",
       "\t<tr><td>Break and Enter Commercial</td><td>2012</td><td> 1</td><td> 8</td><td>22</td><td> 1</td><td>10XX CANADA PL  </td><td>Central Business District</td><td>491519.5</td><td>5459521</td></tr>\n",
       "\t<tr><td>Break and Enter Commercial</td><td>2012</td><td>10</td><td>27</td><td>21</td><td>35</td><td>10XX CANADA PL  </td><td>Central Business District</td><td>491586.3</td><td>5459502</td></tr>\n",
       "\t<tr><td>Break and Enter Commercial</td><td>2012</td><td>12</td><td>13</td><td> 5</td><td> 0</td><td>10XX HAMILTON ST</td><td>Central Business District</td><td>491211.0</td><td>5458148</td></tr>\n",
       "\t<tr><td>Break and Enter Commercial</td><td>2012</td><td>12</td><td>15</td><td>22</td><td> 0</td><td>10XX HAMILTON ST</td><td>Central Business District</td><td>491261.0</td><td>5458199</td></tr>\n",
       "</tbody>\n",
       "</table>\n"
      ],
      "text/latex": [
       "A tibble: 6 x 10\n",
       "\\begin{tabular}{llllllllll}\n",
       " TYPE & YEAR & MONTH & DAY & HOUR & MINUTE & HUNDRED\\_BLOCK & NEIGHBOURHOOD & X & Y\\\\\n",
       " <chr> & <dbl> & <dbl> & <dbl> & <dbl> & <dbl> & <chr> & <chr> & <dbl> & <dbl>\\\\\n",
       "\\hline\n",
       "\t Break and Enter Commercial & 2012 & 11 & 26 &  9 & 38 & 10XX BEACH AVE   & Central Business District & 490268.4 & 5458143\\\\\n",
       "\t Break and Enter Commercial & 2012 & 10 & 11 & 13 &  0 & 10XX CAMBIE ST   & Central Business District & 491327.6 & 5458026\\\\\n",
       "\t Break and Enter Commercial & 2012 &  1 &  8 & 22 &  1 & 10XX CANADA PL   & Central Business District & 491519.5 & 5459521\\\\\n",
       "\t Break and Enter Commercial & 2012 & 10 & 27 & 21 & 35 & 10XX CANADA PL   & Central Business District & 491586.3 & 5459502\\\\\n",
       "\t Break and Enter Commercial & 2012 & 12 & 13 &  5 &  0 & 10XX HAMILTON ST & Central Business District & 491211.0 & 5458148\\\\\n",
       "\t Break and Enter Commercial & 2012 & 12 & 15 & 22 &  0 & 10XX HAMILTON ST & Central Business District & 491261.0 & 5458199\\\\\n",
       "\\end{tabular}\n"
      ],
      "text/markdown": [
       "\n",
       "A tibble: 6 x 10\n",
       "\n",
       "| TYPE &lt;chr&gt; | YEAR &lt;dbl&gt; | MONTH &lt;dbl&gt; | DAY &lt;dbl&gt; | HOUR &lt;dbl&gt; | MINUTE &lt;dbl&gt; | HUNDRED_BLOCK &lt;chr&gt; | NEIGHBOURHOOD &lt;chr&gt; | X &lt;dbl&gt; | Y &lt;dbl&gt; |\n",
       "|---|---|---|---|---|---|---|---|---|---|\n",
       "| Break and Enter Commercial | 2012 | 11 | 26 |  9 | 38 | 10XX BEACH AVE   | Central Business District | 490268.4 | 5458143 |\n",
       "| Break and Enter Commercial | 2012 | 10 | 11 | 13 |  0 | 10XX CAMBIE ST   | Central Business District | 491327.6 | 5458026 |\n",
       "| Break and Enter Commercial | 2012 |  1 |  8 | 22 |  1 | 10XX CANADA PL   | Central Business District | 491519.5 | 5459521 |\n",
       "| Break and Enter Commercial | 2012 | 10 | 27 | 21 | 35 | 10XX CANADA PL   | Central Business District | 491586.3 | 5459502 |\n",
       "| Break and Enter Commercial | 2012 | 12 | 13 |  5 |  0 | 10XX HAMILTON ST | Central Business District | 491211.0 | 5458148 |\n",
       "| Break and Enter Commercial | 2012 | 12 | 15 | 22 |  0 | 10XX HAMILTON ST | Central Business District | 491261.0 | 5458199 |\n",
       "\n"
      ],
      "text/plain": [
       "  TYPE                       YEAR MONTH DAY HOUR MINUTE HUNDRED_BLOCK   \n",
       "1 Break and Enter Commercial 2012 11    26   9   38     10XX BEACH AVE  \n",
       "2 Break and Enter Commercial 2012 10    11  13    0     10XX CAMBIE ST  \n",
       "3 Break and Enter Commercial 2012  1     8  22    1     10XX CANADA PL  \n",
       "4 Break and Enter Commercial 2012 10    27  21   35     10XX CANADA PL  \n",
       "5 Break and Enter Commercial 2012 12    13   5    0     10XX HAMILTON ST\n",
       "6 Break and Enter Commercial 2012 12    15  22    0     10XX HAMILTON ST\n",
       "  NEIGHBOURHOOD             X        Y      \n",
       "1 Central Business District 490268.4 5458143\n",
       "2 Central Business District 491327.6 5458026\n",
       "3 Central Business District 491519.5 5459521\n",
       "4 Central Business District 491586.3 5459502\n",
       "5 Central Business District 491211.0 5458148\n",
       "6 Central Business District 491261.0 5458199"
      ]
     },
     "metadata": {},
     "output_type": "display_data"
    },
    {
     "data": {
      "text/html": [
       "<table class=\"dataframe\">\n",
       "<caption>A tibble: 6 x 10</caption>\n",
       "<thead>\n",
       "\t<tr><th scope=col>TYPE</th><th scope=col>YEAR</th><th scope=col>MONTH</th><th scope=col>DAY</th><th scope=col>HOUR</th><th scope=col>MINUTE</th><th scope=col>HUNDRED_BLOCK</th><th scope=col>NEIGHBOURHOOD</th><th scope=col>X</th><th scope=col>Y</th></tr>\n",
       "\t<tr><th scope=col>&lt;chr&gt;</th><th scope=col>&lt;dbl&gt;</th><th scope=col>&lt;dbl&gt;</th><th scope=col>&lt;dbl&gt;</th><th scope=col>&lt;dbl&gt;</th><th scope=col>&lt;dbl&gt;</th><th scope=col>&lt;chr&gt;</th><th scope=col>&lt;chr&gt;</th><th scope=col>&lt;dbl&gt;</th><th scope=col>&lt;dbl&gt;</th></tr>\n",
       "</thead>\n",
       "<tbody>\n",
       "\t<tr><td>Break and Enter Commercial</td><td>2022</td><td> 2</td><td>13</td><td> 6</td><td>22</td><td>10XX CANADA PL  </td><td>Central Business District</td><td>491493.3</td><td>5459542</td></tr>\n",
       "\t<tr><td>Break and Enter Commercial</td><td>2022</td><td> 7</td><td>16</td><td> 9</td><td>10</td><td>10XX CANADA PL  </td><td>Central Business District</td><td>491493.3</td><td>5459542</td></tr>\n",
       "\t<tr><td>Break and Enter Commercial</td><td>2022</td><td>10</td><td> 2</td><td> 6</td><td>29</td><td>10XX CANADA PL  </td><td>Central Business District</td><td>491493.3</td><td>5459542</td></tr>\n",
       "\t<tr><td>Break and Enter Commercial</td><td>2022</td><td> 1</td><td> 7</td><td> 6</td><td> 2</td><td>10XX CANADA PL  </td><td>Central Business District</td><td>491493.4</td><td>5459542</td></tr>\n",
       "\t<tr><td>Break and Enter Commercial</td><td>2022</td><td> 2</td><td>26</td><td>18</td><td>16</td><td>10XX DUNSMUIR ST</td><td>Central Business District</td><td>491237.8</td><td>5459259</td></tr>\n",
       "\t<tr><td>Break and Enter Commercial</td><td>2022</td><td> 1</td><td>21</td><td> 3</td><td>30</td><td>10XX DUNSMUIR ST</td><td>Central Business District</td><td>491238.7</td><td>5459259</td></tr>\n",
       "</tbody>\n",
       "</table>\n"
      ],
      "text/latex": [
       "A tibble: 6 x 10\n",
       "\\begin{tabular}{llllllllll}\n",
       " TYPE & YEAR & MONTH & DAY & HOUR & MINUTE & HUNDRED\\_BLOCK & NEIGHBOURHOOD & X & Y\\\\\n",
       " <chr> & <dbl> & <dbl> & <dbl> & <dbl> & <dbl> & <chr> & <chr> & <dbl> & <dbl>\\\\\n",
       "\\hline\n",
       "\t Break and Enter Commercial & 2022 &  2 & 13 &  6 & 22 & 10XX CANADA PL   & Central Business District & 491493.3 & 5459542\\\\\n",
       "\t Break and Enter Commercial & 2022 &  7 & 16 &  9 & 10 & 10XX CANADA PL   & Central Business District & 491493.3 & 5459542\\\\\n",
       "\t Break and Enter Commercial & 2022 & 10 &  2 &  6 & 29 & 10XX CANADA PL   & Central Business District & 491493.3 & 5459542\\\\\n",
       "\t Break and Enter Commercial & 2022 &  1 &  7 &  6 &  2 & 10XX CANADA PL   & Central Business District & 491493.4 & 5459542\\\\\n",
       "\t Break and Enter Commercial & 2022 &  2 & 26 & 18 & 16 & 10XX DUNSMUIR ST & Central Business District & 491237.8 & 5459259\\\\\n",
       "\t Break and Enter Commercial & 2022 &  1 & 21 &  3 & 30 & 10XX DUNSMUIR ST & Central Business District & 491238.7 & 5459259\\\\\n",
       "\\end{tabular}\n"
      ],
      "text/markdown": [
       "\n",
       "A tibble: 6 x 10\n",
       "\n",
       "| TYPE &lt;chr&gt; | YEAR &lt;dbl&gt; | MONTH &lt;dbl&gt; | DAY &lt;dbl&gt; | HOUR &lt;dbl&gt; | MINUTE &lt;dbl&gt; | HUNDRED_BLOCK &lt;chr&gt; | NEIGHBOURHOOD &lt;chr&gt; | X &lt;dbl&gt; | Y &lt;dbl&gt; |\n",
       "|---|---|---|---|---|---|---|---|---|---|\n",
       "| Break and Enter Commercial | 2022 |  2 | 13 |  6 | 22 | 10XX CANADA PL   | Central Business District | 491493.3 | 5459542 |\n",
       "| Break and Enter Commercial | 2022 |  7 | 16 |  9 | 10 | 10XX CANADA PL   | Central Business District | 491493.3 | 5459542 |\n",
       "| Break and Enter Commercial | 2022 | 10 |  2 |  6 | 29 | 10XX CANADA PL   | Central Business District | 491493.3 | 5459542 |\n",
       "| Break and Enter Commercial | 2022 |  1 |  7 |  6 |  2 | 10XX CANADA PL   | Central Business District | 491493.4 | 5459542 |\n",
       "| Break and Enter Commercial | 2022 |  2 | 26 | 18 | 16 | 10XX DUNSMUIR ST | Central Business District | 491237.8 | 5459259 |\n",
       "| Break and Enter Commercial | 2022 |  1 | 21 |  3 | 30 | 10XX DUNSMUIR ST | Central Business District | 491238.7 | 5459259 |\n",
       "\n"
      ],
      "text/plain": [
       "  TYPE                       YEAR MONTH DAY HOUR MINUTE HUNDRED_BLOCK   \n",
       "1 Break and Enter Commercial 2022  2    13   6   22     10XX CANADA PL  \n",
       "2 Break and Enter Commercial 2022  7    16   9   10     10XX CANADA PL  \n",
       "3 Break and Enter Commercial 2022 10     2   6   29     10XX CANADA PL  \n",
       "4 Break and Enter Commercial 2022  1     7   6    2     10XX CANADA PL  \n",
       "5 Break and Enter Commercial 2022  2    26  18   16     10XX DUNSMUIR ST\n",
       "6 Break and Enter Commercial 2022  1    21   3   30     10XX DUNSMUIR ST\n",
       "  NEIGHBOURHOOD             X        Y      \n",
       "1 Central Business District 491493.3 5459542\n",
       "2 Central Business District 491493.3 5459542\n",
       "3 Central Business District 491493.3 5459542\n",
       "4 Central Business District 491493.4 5459542\n",
       "5 Central Business District 491237.8 5459259\n",
       "6 Central Business District 491238.7 5459259"
      ]
     },
     "metadata": {},
     "output_type": "display_data"
    }
   ],
   "source": [
    "cbd_2012 <- read_csv(\"https://drive.google.com/u/0/uc?id=1hYkqOrxvwQ7rXIw8jGVoDlUwL0a5Vn9b&export=download\")\n",
    "cbd_2022 <- read_csv(\"https://drive.google.com/u/0/uc?id=1rDToNyTlyzyVwrLMV4tamVZOdwQBVXRe&export=download\")\n",
    "\n",
    "head(cbd_2012)\n",
    "head(cbd_2022)"
   ]
  },
  {
   "cell_type": "code",
   "execution_count": 11,
   "id": "ac87bf24-d33f-4639-aec6-4238d9353384",
   "metadata": {
    "tags": [],
    "vscode": {
     "languageId": "r"
    }
   },
   "outputs": [
    {
     "data": {
      "text/html": [
       "0.0601972565468768"
      ],
      "text/latex": [
       "0.0601972565468768"
      ],
      "text/markdown": [
       "0.0601972565468768"
      ],
      "text/plain": [
       "[1] 0.06019726"
      ]
     },
     "metadata": {},
     "output_type": "display_data"
    },
    {
     "data": {
      "text/html": [
       "0.0380629357452421"
      ],
      "text/latex": [
       "0.0380629357452421"
      ],
      "text/markdown": [
       "0.0380629357452421"
      ],
      "text/plain": [
       "[1] 0.03806294"
      ]
     },
     "metadata": {},
     "output_type": "display_data"
    }
   ],
   "source": [
    "bike_theft_2012 <- cbd_2012 %>%\n",
    "    summarize(bike_theft = sum(TYPE == \"Theft of Bicycle\"),\n",
    "              prop_bike_theft = bike_theft / n()) %>%\n",
    "    select(prop_bike_theft) %>%\n",
    "    as.numeric()\n",
    "\n",
    "bike_theft_2022 <- cbd_2022 %>%\n",
    "    summarize(bike_theft = sum(TYPE == \"Theft of Bicycle\"),\n",
    "              prop_bike_theft = bike_theft / n()) %>%\n",
    "    select(prop_bike_theft) %>%\n",
    "    as.numeric()\n",
    "\n",
    "head(bike_theft_2012)\n",
    "head(bike_theft_2022)"
   ]
  },
  {
   "attachments": {},
   "cell_type": "markdown",
   "id": "bd5b89cf-e41c-4c1d-ae21-0b6376edc292",
   "metadata": {},
   "source": [
    "## Methods\n",
    "\n",
    "What do you expect to find?\n",
    "We expect to find the effectiveness of the Project 529 program and its impact on bike theft in the Central Business District neighbourhood. \n",
    "\n",
    "### Step 1: Sample distribution\n",
    "Make the sample distribution histogram for the 2012, 2022 datasets. Layout all the number of counts for each type of crime.\n",
    "\n",
    "### Step 2: Calculate original datasets’ statistic\n",
    "Calculate the bike theft proportion for the original 2012, 2022 datasets.\n",
    "\n",
    "### Step 3: Perform hypothesis test\n",
    "Set a seed at first. Using the infer package, make a null distribution. Generate 1000 samples by permute from the original data, and calculate the bike theft proportion for each one. Use the hypothesis test “diff of props” to determine whether the bike theft proportion has gone down comparing the data from 2012 and the data from 2022. Let 2022 be p1 and 2012 be p2.\n",
    "H0 = P1 - P2 = 0, Ha =  P1 - P2 < 0 (left-tail test)\n",
    "Get the p value for the null model created.\n",
    "Visualise the null distribution and shade the left side p value.\n",
    "\n",
    "### Step 4: Interpret results\n",
    "Set a significance level to determine the outcoming of the research. Use different significant levels and compare the results. \n",
    "If the p-value is less than or equal to the significance level, reject H0 (potential Type I error). This would suggest that there is a significant difference in the proportions of bike thefts in the two years, which means that Project 529 is efficient in reducing bike theft in the Central Business District.\n",
    "If the p-value is greater than the significance level, do not reject H0 (potential Type II error). This indicates that there is not enough evidence to conclude that the proportions are different, and that Project 529 is not efficient in reducing bike theft in the Central Business District.\n"
   ]
  },
  {
   "attachments": {},
   "cell_type": "markdown",
   "id": "caaef122-ea04-42f9-a2c5-036ea7dbcb09",
   "metadata": {},
   "source": [
    "## Discussion\n",
    "\n",
    "### What impact could such findings have?\n",
    "*have to remember it is not a direct correlation, other factors in play as well\n",
    "\n",
    "Based on our findings, we would know whether the project was effective in reducing bike theft or not. If the program is found to be effective, it may justify the allocation of current and potentially additional resources and funding towards the program, as well as towards establishing similar programs in other neighbourhoods where bike theft is prominent. If the program is found to have no significant impact, the findings may indicate that a better strategy can be implemented to reduce bike theft. Besides, policies could be adjusted by the government to combat bike theft. Moreover, it could raise public awareness towards bike theft. This would call for higher participation in the program, which would decrease bike theft further. The decrease in crime rates would enhance the overall quality of life for residents, and make our society more civilised.\n",
    "\n",
    "### What future questions could this lead to?\n",
    "Since we only looked into the Central Business District, the final inference results wouldn't be powerful enough. Therefore, we could further examine if the project worked out in other regions in Vancouver? \n",
    "Further research could examine the cost-effectiveness of Project 529. Is the reduction in bike theft worth the investment in the program? Are there more cost-efficient alternatives? If the project is successful, how are some ways to advocate it to other cities and neighbourhoods?\n",
    "Could we conduct different hypothesis tests to infer other types of crimes in the criminal data and improve policing methods? Besides, if Project 529 is found to be successful, it may be useful to evaluate other crime prevention programs.\n"
   ]
  },
  {
   "attachments": {},
   "cell_type": "markdown",
   "id": "3f0beab4-b958-47b3-82e8-ac4d18b7a7f0",
   "metadata": {},
   "source": [
    "## References \n",
    "\n",
    "Dataset source: https://geodash.vpd.ca/opendata \n",
    "\n",
    "https://www.ncbi.nlm.nih.gov/pmc/articles/PMC6594600/\n",
    "This article investigates the spatial resolution for crime patterns using the same database. One of the four crimes they investigated was theft of bikes (TOB) because it is voluminous (at least 2000 events per year, not sure if they only meant Vancouver). One thing they remarked on was that bike theft happens mostly around transport hubs or places of employment where they’re more available and accessible. Also, the density of crime happened more often in Downtown Vancouver according to their plot using 2015-2016 data. (So, Hastings-Sunrise has bike theft, but not as much as Downtown)\n",
    "\n",
    "Ballard, J. (2021, February 4). Vancouver still has the most bike thefts per capita among major Canadian cities despite efforts. CBC News. https://www.cbc.ca/news/canada/british-columbia/vancouver-still-has-the-most-bike-thefts-per-capita-among-major-canadian-cities-despite-efforts-1.5898575\n",
    "\n",
    "Malleson N, Steenbeek W, Andresen MA. Identifying the appropriate spatial resolution for the analysis of crime patterns. PLoS One. 2019 Jun 26;14(6):e0218324. doi: 10.1371/journal.pone.0218324. PMID: 31242224; PMCID: PMC6594600.\n",
    "\n",
    "McIntyre, G. (2023, June 9). The state of bike thefts in Vancouver. Vancouver Sun. https://vancouversun.com/news/local-news/the-state-of-bike-thefts-in-vancouver\n",
    "\n",
    "Nettle D, Nott K, Bateson M. 'Cycle thieves, we are watching you': impact of a simple signage intervention against bicycle theft. PLoS One. 2012;7(12):e51738. doi: 10.1371/journal.pone.0051738. Epub 2012 Dec 12. PMID: 23251615; PMCID: PMC3520908.\n",
    "\n",
    "Vancouver Police Department. (n.d.). Bike theft protection. https://vpd.ca/crime-prevention-safety/bike-theft-protection/\n"
   ]
  }
 ],
 "metadata": {
  "kernelspec": {
   "display_name": "R",
   "language": "R",
   "name": "ir"
  },
  "language_info": {
   "codemirror_mode": "r",
   "file_extension": ".r",
   "mimetype": "text/x-r-source",
   "name": "R",
   "pygments_lexer": "r",
   "version": "4.3.2"
  }
 },
 "nbformat": 4,
 "nbformat_minor": 5
}
