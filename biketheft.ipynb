{
 "cells": [
  {
   "attachments": {},
   "cell_type": "markdown",
   "id": "6dfd5de1-896e-4c75-b974-b8988319b3f5",
   "metadata": {},
   "source": [
    "# STAT 201 Group Project: Assessing the Effectiveness of VPD Bike Theft Prevention Programs"
   ]
  },
  {
   "attachments": {},
   "cell_type": "markdown",
   "id": "c86f0df4-4b4e-44ee-a3a9-1ce2dc7d43af",
   "metadata": {
    "tags": []
   },
   "source": [
    "Angela Felicia, Christin Wang, Linda Chu, Yifan Hao"
   ]
  },
  {
   "attachments": {},
   "cell_type": "markdown",
   "id": "b5daabc3-fbe9-4677-96cc-a512d85b77f1",
   "metadata": {},
   "source": [
    "### Background Information\n",
    "Bike theft is a major issue in Vancouver. According to the Vancouver Police Department (VPD), over 2000 bikes are reported stolen in Vancouver every year (https://vpd.ca/crime-prevention-safety/bike-theft-protection/). In fact, Vancouver currently has the highest rate of bike theft per capita of all cities in Canada (https://www.cbc.ca/news/canada/british-columbia/vancouver-still-has-the-most-bike-thefts-per-capita-among-major-canadian-cities-despite-efforts-1.5898575).\n",
    "\n",
    "In 2015, the VPD partnered with Project 529, an online database for bicycles in hopes of reducing bike theft in the city. Cyclists can register their bike on the database and display a Project 529 decal (otherwise known as a \"shield\") on their bike in order to deter thieves, as well as to make tracking stolen bikes easier.\n",
    "\n",
    "The VPD stated that the introduction of the Project 529 program was effective in reducing bike theft in Vancouver. According to this article (https://vancouversun.com/news/local-news/the-state-of-bike-thefts-in-vancouver), since 2015, bike theft has dropped by over 50%.\n",
    "\n",
    "### Our Question\n",
    "We want to investigate whether or not the VPD's claims are supported by statistical inference. In particular, we want to compare the proportion of all crimes that are bike theft from a year before the introduction of Project 529 (2012) to the proportion of all crimes that are bike theft from a year after the introduction of Project 529 (2022). \n",
    "\n",
    "We also want to develop a confidence interval to state how confident we are in the actual proportion of bike theft decrease over the years after the introduction of Project 592.\n",
    "\n",
    "We also are focusing on the Hastings-Sunrise neighbourhood since this is a neighbourhood with a high rate of bike theft. (need citation)\n",
    "\n",
    "### Our Dataset\n",
    "The dataset we will use to investigate our question is the VPD Crime dataset. This dataset is extracted from the PRIME BC Police Records Management System (RMS) and contains information about the type of crime, date/time of crime, as well as the location of the crime. The data ranges from 2003 to 2023 and covers all neighbourhoods in Vancouver."
   ]
  },
  {
   "attachments": {},
   "cell_type": "markdown",
   "id": "5bdc6c83-6987-4816-948d-832f20df2655",
   "metadata": {},
   "source": [
    "## Preliminary Results: Loading the dataset \n"
   ]
  },
  {
   "cell_type": "code",
   "execution_count": 1,
   "id": "73eee2c0-5bad-4d59-91a4-d3ff401f713e",
   "metadata": {
    "tags": [],
    "vscode": {
     "languageId": "r"
    }
   },
   "outputs": [
    {
     "name": "stderr",
     "output_type": "stream",
     "text": [
      "\n",
      "Attaching package: 'dplyr'\n",
      "\n",
      "\n",
      "The following objects are masked from 'package:stats':\n",
      "\n",
      "    filter, lag\n",
      "\n",
      "\n",
      "The following objects are masked from 'package:base':\n",
      "\n",
      "    intersect, setdiff, setequal, union\n",
      "\n",
      "\n"
     ]
    }
   ],
   "source": [
    "library(dplyr)\n",
    "library(ggplot2)\n",
    "library(readr)\n",
    "library(tidyr)"
   ]
  },
  {
   "cell_type": "code",
   "execution_count": 2,
   "id": "92a2dc74-bcc9-4f77-97d4-0f68549236fc",
   "metadata": {
    "tags": [],
    "vscode": {
     "languageId": "r"
    }
   },
   "outputs": [
    {
     "ename": "ERROR",
     "evalue": "Error: 'crimedata_csv_Central Business District_2012.csv' does not exist in current working directory ('/Users/angelafelicia/Downloads/STAT-201-Group-Project').\n",
     "output_type": "error",
     "traceback": [
      "Error: 'crimedata_csv_Central Business District_2012.csv' does not exist in current working directory ('/Users/angelafelicia/Downloads/STAT-201-Group-Project').\nTraceback:\n",
      "1. read_csv(\"crimedata_csv_Central Business District_2012.csv\")",
      "2. vroom::vroom(file, delim = \",\", col_names = col_names, col_types = col_types, \n .     col_select = {\n .         {\n .             col_select\n .         }\n .     }, id = id, .name_repair = name_repair, skip = skip, n_max = n_max, \n .     na = na, quote = quote, comment = comment, skip_empty_rows = skip_empty_rows, \n .     trim_ws = trim_ws, escape_double = TRUE, escape_backslash = FALSE, \n .     locale = locale, guess_max = guess_max, show_col_types = show_col_types, \n .     progress = progress, altrep = lazy, num_threads = num_threads)",
      "3. vroom_(file, delim = delim %||% col_types$delim, col_names = col_names, \n .     col_types = col_types, id = id, skip = skip, col_select = col_select, \n .     name_repair = .name_repair, na = na, quote = quote, trim_ws = trim_ws, \n .     escape_double = escape_double, escape_backslash = escape_backslash, \n .     comment = comment, skip_empty_rows = skip_empty_rows, locale = locale, \n .     guess_max = guess_max, n_max = n_max, altrep = vroom_altrep(altrep), \n .     num_threads = num_threads, progress = progress)",
      "4. (function (path, write = FALSE) \n . {\n .     if (is.raw(path)) {\n .         return(rawConnection(path, \"rb\"))\n .     }\n .     if (!is.character(path)) {\n .         return(path)\n .     }\n .     if (is_url(path)) {\n .         if (requireNamespace(\"curl\", quietly = TRUE)) {\n .             con <- curl::curl(path)\n .         }\n .         else {\n .             inform(\"`curl` package not installed, falling back to using `url()`\")\n .             con <- url(path)\n .         }\n .         ext <- tolower(tools::file_ext(path))\n .         return(switch(ext, zip = , bz2 = , xz = {\n .             close(con)\n .             stop(\"Reading from remote `\", ext, \"` compressed files is not supported,\\n\", \n .                 \"  download the files locally first.\", call. = FALSE)\n .         }, gz = gzcon(con), con))\n .     }\n .     path <- enc2utf8(path)\n .     p <- split_path_ext(basename_utf8(path))\n .     if (write) {\n .         path <- normalizePath_utf8(path, mustWork = FALSE)\n .     }\n .     else {\n .         path <- check_path(path)\n .     }\n .     if (is_installed(\"archive\")) {\n .         formats <- archive_formats(p$extension)\n .         extension <- p$extension\n .         while (is.null(formats) && nzchar(extension)) {\n .             extension <- split_path_ext(extension)$extension\n .             formats <- archive_formats(extension)\n .         }\n .         if (!is.null(formats)) {\n .             p$extension <- extension\n .             if (write) {\n .                 if (is.null(formats[[1]])) {\n .                   return(archive::file_write(path, filter = formats[[2]]))\n .                 }\n .                 return(archive::archive_write(path, p$path, format = formats[[1]], \n .                   filter = formats[[2]]))\n .             }\n .             if (is.null(formats[[1]])) {\n .                 return(archive::file_read(path, filter = formats[[2]]))\n .             }\n .             return(archive::archive_read(path, format = formats[[1]], \n .                 filter = formats[[2]]))\n .         }\n .     }\n .     if (!write) {\n .         compression <- detect_compression(path)\n .     }\n .     else {\n .         compression <- NA\n .     }\n .     if (is.na(compression)) {\n .         compression <- tools::file_ext(path)\n .     }\n .     if (write && compression == \"zip\") {\n .         stop(\"Can only read from, not write to, .zip\", call. = FALSE)\n .     }\n .     switch(compression, gz = gzfile(path, \"\"), bz2 = bzfile(path, \n .         \"\"), xz = xzfile(path, \"\"), zip = zipfile(path, \"\"), \n .         if (!has_trailing_newline(path)) {\n .             file(path)\n .         } else {\n .             path\n .         })\n . })(\"crimedata_csv_Central Business District_2012.csv\")",
      "5. check_path(path)",
      "6. stop(\"'\", path, \"' does not exist\", if (!is_absolute_path(path)) {\n .     paste0(\" in current working directory ('\", getwd(), \"')\")\n . }, \".\", call. = FALSE)"
     ]
    }
   ],
   "source": [
    "cbd_2012 <- read_csv(\"crimedata_csv_Central Business District_2012.csv\")\n",
    "cbd_2022 <- read_csv(\"crimedata_csv_Central Business District_2022.csv\")\n",
    "\n",
    "head(cbd_2012)\n",
    "head(cbd_2022)"
   ]
  },
  {
   "cell_type": "code",
   "execution_count": 36,
   "id": "ac87bf24-d33f-4639-aec6-4238d9353384",
   "metadata": {
    "tags": [],
    "vscode": {
     "languageId": "r"
    }
   },
   "outputs": [
    {
     "data": {
      "text/html": [
       "0.0601972565468768"
      ],
      "text/latex": [
       "0.0601972565468768"
      ],
      "text/markdown": [
       "0.0601972565468768"
      ],
      "text/plain": [
       "[1] 0.06019726"
      ]
     },
     "metadata": {},
     "output_type": "display_data"
    },
    {
     "data": {
      "text/html": [
       "0.0380629357452421"
      ],
      "text/latex": [
       "0.0380629357452421"
      ],
      "text/markdown": [
       "0.0380629357452421"
      ],
      "text/plain": [
       "[1] 0.03806294"
      ]
     },
     "metadata": {},
     "output_type": "display_data"
    }
   ],
   "source": [
    "bike_theft_2012 <- cbd_2012 %>%\n",
    "    summarize(bike_theft = sum(TYPE == \"Theft of Bicycle\"),\n",
    "              prop_bike_theft = bike_theft / n()) %>%\n",
    "    select(prop_bike_theft) %>%\n",
    "    as.numeric()\n",
    "\n",
    "bike_theft_2022 <- cbd_2022 %>%\n",
    "    summarize(bike_theft = sum(TYPE == \"Theft of Bicycle\"),\n",
    "              prop_bike_theft = bike_theft / n()) %>%\n",
    "    select(prop_bike_theft) %>%\n",
    "    as.numeric()\n",
    "\n",
    "head(bike_theft_2012)\n",
    "head(bike_theft_2022)"
   ]
  },
  {
   "attachments": {},
   "cell_type": "markdown",
   "id": "bd5b89cf-e41c-4c1d-ae21-0b6376edc292",
   "metadata": {},
   "source": [
    "## Methods\n",
    "\n",
    "What do you expect to find?\n",
    "We expect to find the effectiveness of the Project 529 program and its impact on bike theft in the Central Business District neighbourhood. \n",
    "\n",
    "### Step 1: Sample distribution\n",
    "Make the sample distribution histogram for the 2012, 2022 datasets. Layout all the number of counts for each type of crime.\n",
    "\n",
    "### Step 2: Calculate original datasets’ statistic\n",
    "Calculate the bike theft proportion for the original 2012, 2022 datasets.\n",
    "\n",
    "### Step 3: Perform hypothesis test\n",
    "Set a seed at first. Using the infer package, make a null distribution. Generate 1000 samples by permute from the original data, and calculate the bike theft proportion for each one. Use the hypothesis test “diff of props” to determine whether the bike theft proportion has gone down comparing the data from 2012 and the data from 2022. Let 2022 be p1 and 2012 be p2.\n",
    "H0 = P1 - P2 = 0, Ha =  P1 - P2 < 0 (left-tail test)\n",
    "Get the p value for the null model created.\n",
    "Visualise the null distribution and shade the left side p value.\n",
    "\n",
    "### Step 1: Interpret results\n",
    "Set a significance level to determine the outcoming of the research. Use different significant levels and compare the results. \n",
    "If the p-value is less than or equal to the significance level, reject H0 (potential Type I error). This would suggest that there is a significant difference in the proportions of bike thefts in the two years, which means that Project 529 is efficient in reducing bike theft in the Central Business District.\n",
    "If the p-value is greater than the significance level, do not reject H0 (potential Type II error). This indicates that there is not enough evidence to conclude that the proportions are different, and that Project 529 is not efficient in reducing bike theft in the Central Business District.\n"
   ]
  },
  {
   "attachments": {},
   "cell_type": "markdown",
   "id": "caaef122-ea04-42f9-a2c5-036ea7dbcb09",
   "metadata": {},
   "source": [
    "## Discussion\n",
    "\n",
    "### What impact could such findings have?\n",
    "*have to remember it is not a direct correlation, other factors in play as well\n",
    "\n",
    "Based on our findings, we would know whether the project was effective in reducing bike theft or not. If the program is found to be effective, it may justify the allocation of current and potentially additional resources and funding towards the program, as well as towards establishing similar programs in other neighbourhoods where bike theft is prominent. If the program is found to have no significant impact, the findings may indicate that a better strategy can be implemented to reduce bike theft. Besides, policies could be adjusted by the government to combat bike theft. Moreover, it could raise public awareness towards bike theft. This would call for higher participation in the program, which would decrease bike theft further. The decrease in crime rates would enhance the overall quality of life for residents, and make our society more civilised.\n",
    "\n",
    "### What future questions could this lead to?\n",
    "Since we only looked into the Central Business District, the final inference results wouldn't be powerful enough. Therefore, we could further examine if the project worked out in other regions in Vancouver? \n",
    "Further research could examine the cost-effectiveness of Project 529. Is the reduction in bike theft worth the investment in the program? Are there more cost-efficient alternatives? If the project is successful, how are some ways to advocate it to other cities and neighbourhoods?\n",
    "Could we conduct different hypothesis tests to infer other types of crimes in the criminal data and improve policing methods? Besides, if Project 529 is found to be successful, it may be useful to evaluate other crime prevention programs.\n"
   ]
  },
  {
   "attachments": {},
   "cell_type": "markdown",
   "id": "3f0beab4-b958-47b3-82e8-ac4d18b7a7f0",
   "metadata": {},
   "source": [
    "## References \n",
    "\n",
    "Dataset source: https://geodash.vpd.ca/opendata \n",
    "\n",
    "https://www.ncbi.nlm.nih.gov/pmc/articles/PMC6594600/\n",
    "This article investigates the spatial resolution for crime patterns using the same database. One of the four crimes they investigated was theft of bikes (TOB) because it is voluminous (at least 2000 events per year, not sure if they only meant Vancouver). One thing they remarked on was that bike theft happens mostly around transport hubs or places of employment where they’re more available and accessible. Also, the density of crime happened more often in Downtown Vancouver according to their plot using 2015-2016 data. (So, Hastings-Sunrise has bike theft, but not as much as Downtown)\n"
   ]
  },
  {
   "cell_type": "code",
   "execution_count": null,
   "id": "bdbf439e-94c2-44c7-ba3b-287b5f0eb2d8",
   "metadata": {
    "vscode": {
     "languageId": "r"
    }
   },
   "outputs": [],
   "source": []
  }
 ],
 "metadata": {
  "kernelspec": {
   "display_name": "R",
   "language": "R",
   "name": "ir"
  },
  "language_info": {
   "codemirror_mode": "r",
   "file_extension": ".r",
   "mimetype": "text/x-r-source",
   "name": "R",
   "pygments_lexer": "r",
   "version": "4.3.2"
  }
 },
 "nbformat": 4,
 "nbformat_minor": 5
}
